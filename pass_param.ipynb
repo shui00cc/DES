{
 "cells": [
  {
   "attachments": {},
   "cell_type": "markdown",
   "metadata": {},
   "source": [
    "# python 命令行传递参数方式"
   ]
  },
  {
   "attachments": {},
   "cell_type": "markdown",
   "metadata": {},
   "source": [
    "### 1、argparse"
   ]
  },
  {
   "cell_type": "code",
   "execution_count": null,
   "metadata": {},
   "outputs": [],
   "source": [
    "import argparse\n",
    "\n",
    "if __name__ == \"__main__\":  #if __name__ == \"__main__\"的作用是什么？\n",
    "\n",
    "    parser = argparse.ArgumentParser()\n",
    "    parser.add_argument('--aa', type=str, default = None)\n",
    "    parser.add_argument('--bb', type=int, default=32)\n",
    "    args = parser.parse_args()\n",
    "    print(args.aa)\n",
    "    print(args.bb)"
   ]
  },
  {
   "cell_type": "code",
   "execution_count": null,
   "metadata": {},
   "outputs": [],
   "source": []
  },
  {
   "attachments": {},
   "cell_type": "markdown",
   "metadata": {},
   "source": [
    "### 2、sys.argv传递参数方法示例"
   ]
  },
  {
   "cell_type": "code",
   "execution_count": null,
   "metadata": {},
   "outputs": [],
   "source": [
    "import sys\n",
    "\n",
    "if __name__ == \"__main__\":\n",
    "    print(sys.argv[1])\n",
    "    print(sys.argv[2])\n",
    "    # for i in range(1, len(sys.argv)):\n",
    "    #     print(sys.argv[i])\n"
   ]
  },
  {
   "attachments": {},
   "cell_type": "markdown",
   "metadata": {},
   "source": [
    "# python 实现DES（文件读取-加密/解密-写入文件）"
   ]
  },
  {
   "cell_type": "code",
   "execution_count": 7,
   "metadata": {},
   "outputs": [],
   "source": [
    "#文件读取\n",
    "def read_file(filename): \n",
    "    '''\n",
    "    filename : 打开文件名\n",
    "    return : 读取文件中字符串\n",
    "    '''\n",
    "    fp = open(filename,\"r\",encoding='utf-8')\n",
    "    message = fp.read()\n",
    "    fp.close()\n",
    "    return message\n",
    "\n"
   ]
  },
  {
   "cell_type": "code",
   "execution_count": 8,
   "metadata": {},
   "outputs": [],
   "source": [
    "#文件写入\n",
    "def write_file(message): \n",
    "    '''\n",
    "    filename : 打开文件名\n",
    "    return : 读取文件中字符串\n",
    "    '''\n",
    "    try:\n",
    "        fp = open('text.txt','w',encoding='utf-8')\n",
    "        fp.write(message)\n",
    "        fp.close()\n",
    "        return message\n",
    "    except:\n",
    "        print(\"Open file error!\")"
   ]
  },
  {
   "cell_type": "code",
   "execution_count": 13,
   "metadata": {},
   "outputs": [],
   "source": [
    "#预处理\n",
    "def str_bit( message ): #将字符串转化成01比特流序列\n",
    "    '''\n",
    "    message ：字符串\n",
    "    return ：将读入的字符串序列转化成01比特流序列\n",
    "    '''\n",
    "    bits = \"\"\n",
    "    for i in message:\n",
    "        asc2i = bin(ord(i))[2:] #bin将十进制数转二进制返回不带有0b的01字符串\n",
    "        # ord(i)#将字符转化成ASCII码\n",
    "        # bin(ord(i))#将ASCII码转化成二进制\n",
    "        # bin(ord(i))[2:]#将二进制转化成01字符串\n",
    "        '''为了统一每一个字符的01bit串位数相同，将每一个均补齐8位'''\n",
    "        for j in range(8-len(asc2i)):\n",
    "            asc2i = '0' + asc2\n",
    "        bits += asc2i\n",
    "    return bits "
   ]
  },
  {
   "cell_type": "code",
   "execution_count": 25,
   "metadata": {},
   "outputs": [],
   "source": [
    "#比特流转换为字符串\n",
    "def bit_str(bits): #将01比特流序列转化成字符串\n",
    "    '''\n",
    "    bits : 01比特流序列\n",
    "    return : 将01比特流序列转化成字符串\n",
    "    '''\n",
    "    message = \"\"\n",
    "    for i in range(len(bits)//8):\n",
    "        message += chr(int(bits[i*8:(i+1)*8],2))\n",
    "\n",
    "# int(bits[i*8:(i+1)*8],2)#将二进制转化成十进制\n",
    "# print(int('1000001',2))#将二进制转化成十进制\n"
   ]
  },
  {
   "cell_type": "code",
   "execution_count": null,
   "metadata": {},
   "outputs": [],
   "source": [
    "#计算时间\n",
    "import time  \n",
    "\n",
    "if __name__==\"__main__\":\n",
    "    #判断程序运行时间\n",
    "    start = time.time()      \n",
    "    #函数执行步骤\n",
    "    end = time.time()\n",
    "    print(\"The program spend time is %.3f seconds\" %(end-start))            "
   ]
  },
  {
   "cell_type": "code",
   "execution_count": null,
   "metadata": {},
   "outputs": [],
   "source": [
    "import des_bos.py\n",
    "\n",
    "def IP_change(bits):\n",
    "    '''\n",
    "    bits:一组64位的01比特字符串   \n",
    "    return：初始置换IP后64bit01序列\n",
    "    '''\n",
    "    ip_str = \"\"\n",
    "    for i in IP:\n",
    "        ip_str = ip_str + bits[i-1]\n",
    "    return ip_str\n"
   ]
  }
 ],
 "metadata": {
  "kernelspec": {
   "display_name": "DeepN",
   "language": "python",
   "name": "python3"
  },
  "language_info": {
   "codemirror_mode": {
    "name": "ipython",
    "version": 3
   },
   "file_extension": ".py",
   "mimetype": "text/x-python",
   "name": "python",
   "nbconvert_exporter": "python",
   "pygments_lexer": "ipython3",
   "version": "3.6.2"
  },
  "orig_nbformat": 4
 },
 "nbformat": 4,
 "nbformat_minor": 2
}
